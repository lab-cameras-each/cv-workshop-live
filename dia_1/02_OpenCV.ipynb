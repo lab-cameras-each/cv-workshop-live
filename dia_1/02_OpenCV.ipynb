{
 "cells": [
  {
   "cell_type": "markdown",
   "metadata": {},
   "source": [
    "# OpenCV: manipulação de imagens\n",
    "\n",
    "Este notebook tem por objetivo demonstrar algumas das funcionalidades da biblioteca OpenCV. Os conceitos mostrados aqui servirão como base para os exercícios posteriores.\n",
    "\n",
    "Para detalhes sobre utilização da biblioteca, favor consultar https://docs.opencv.org/4.5.3/d6/d00/tutorial_py_root.html"
   ]
  },
  {
   "cell_type": "code",
   "execution_count": null,
   "metadata": {
    "id": "e2PvvBzOhMrg"
   },
   "outputs": [],
   "source": [
    "# Importação de bibliotecas necessárias\n",
    "import cv2\n",
    "from google.colab.patches import cv2_imshow   \n",
    "import numpy as np\n",
    "import requests"
   ]
  },
  {
   "cell_type": "code",
   "execution_count": null,
   "metadata": {
    "colab": {
     "base_uri": "https://localhost:8080/"
    },
    "id": "xmddXZOFhnSX",
    "outputId": "0edd795a-f981-4d29-f002-cfbfbfab261b"
   },
   "outputs": [],
   "source": [
    "# Baixando imagem\n",
    "url = \"https://iiif.lib.ncsu.edu/iiif/0052574/full/800,/0/default.jpg\"\n",
    "r = requests.get(url, allow_redirects=True)\n",
    "open('image.jpg', 'wb').write(r.content)"
   ]
  },
  {
   "cell_type": "code",
   "execution_count": null,
   "metadata": {
    "id": "btxgJzkykrEX"
   },
   "outputs": [],
   "source": [
    "# Leitura da imagem baixada\n",
    "image = cv2.imread('image.jpg')"
   ]
  },
  {
   "cell_type": "code",
   "execution_count": null,
   "metadata": {
    "colab": {
     "base_uri": "https://localhost:8080/",
     "height": 569
    },
    "id": "DA663EXihs-e",
    "outputId": "475435fb-67cb-49f7-b68d-e92462f68a4c"
   },
   "outputs": [],
   "source": [
    "# Exibir imagem\n",
    "cv2_imshow(image)"
   ]
  },
  {
   "cell_type": "code",
   "execution_count": null,
   "metadata": {
    "colab": {
     "base_uri": "https://localhost:8080/"
    },
    "id": "gxf7o37zjo81",
    "outputId": "686e3d0b-47d4-4812-80b2-ba2be65c42fb"
   },
   "outputs": [],
   "source": [
    "# Dimensões da imagem\n",
    "image.shape"
   ]
  },
  {
   "cell_type": "code",
   "execution_count": null,
   "metadata": {
    "colab": {
     "base_uri": "https://localhost:8080/"
    },
    "id": "NFNXVuNensaK",
    "outputId": "23aad730-53b7-41da-cccf-e2260a9cb30a"
   },
   "outputs": [],
   "source": [
    "# Canais BGR (o OpenCV usa por padrão BGR ao invés de RGB)\n",
    "print(\"Canal B: \\n\", image[:,:,0], '\\n')\n",
    "print(\"Canal G: \\n\", image[:,:,1], '\\n')\n",
    "print(\"Canal R: \\n\", image[:,:,2], '\\n')"
   ]
  },
  {
   "cell_type": "code",
   "execution_count": null,
   "metadata": {
    "id": "_vpsyHGmlBJ1"
   },
   "outputs": [],
   "source": [
    "# Redimesionar imagem\n",
    "image_resized = cv2.resize(image, (250, 200))"
   ]
  },
  {
   "cell_type": "code",
   "execution_count": null,
   "metadata": {
    "colab": {
     "base_uri": "https://localhost:8080/",
     "height": 217
    },
    "id": "78XJsnrZlTxt",
    "outputId": "f6d6e647-0dfc-42d3-fd28-03301f96791c"
   },
   "outputs": [],
   "source": [
    "cv2_imshow(image_resized)"
   ]
  },
  {
   "cell_type": "code",
   "execution_count": null,
   "metadata": {
    "id": "sXaPB089lYBS"
   },
   "outputs": [],
   "source": [
    "# Transformar para escala de cinza\n",
    "image_gray = cv2.cvtColor(image, cv2.COLOR_BGR2GRAY)"
   ]
  },
  {
   "cell_type": "code",
   "execution_count": null,
   "metadata": {
    "colab": {
     "base_uri": "https://localhost:8080/",
     "height": 569
    },
    "id": "8Ovgh3XTmUoI",
    "outputId": "9ad7267d-5f33-4fa6-bc9f-0b7e1fbb0a1f"
   },
   "outputs": [],
   "source": [
    "cv2_imshow(image_gray)"
   ]
  },
  {
   "cell_type": "code",
   "execution_count": null,
   "metadata": {
    "colab": {
     "base_uri": "https://localhost:8080/"
    },
    "id": "fWWkL0CFmWSO",
    "outputId": "61ae4364-c82b-44fc-ac29-699e3565dfc2"
   },
   "outputs": [],
   "source": [
    "image_gray.shape"
   ]
  },
  {
   "cell_type": "code",
   "execution_count": null,
   "metadata": {
    "id": "DubdZCnkmZI_"
   },
   "outputs": [],
   "source": [
    "# Desenhando retangulos em uma imagem: cv2.rectangle()\n",
    "\n",
    "# Os argumentos são:\n",
    "\n",
    "# - Imagem de entrada --- Ex: output\n",
    "# - Coordenadas do ponto superior esquerdo --- Ex: (200, 200)\n",
    "# - Coordenadas do ponto inferior direito --- Ex: (400, 400)\n",
    "# - Cor (Formato BGR) --- Ex: (255, 0, 0)\n",
    "# - Espessura da linha --- Ex: 2\n",
    "\n"
   ]
  },
  {
   "cell_type": "code",
   "execution_count": null,
   "metadata": {
    "id": "kLAgaW6UmmEH"
   },
   "outputs": [],
   "source": [
    "output = image.copy()\n",
    "rectangle = cv2.rectangle(output, (200, 200), (400, 400), (255, 0, 0), 2)"
   ]
  },
  {
   "cell_type": "code",
   "execution_count": null,
   "metadata": {
    "colab": {
     "base_uri": "https://localhost:8080/",
     "height": 569
    },
    "id": "WrJ-zx1lmxZH",
    "outputId": "959f9a90-3636-4638-a83c-3b5d27a652d1"
   },
   "outputs": [],
   "source": [
    "cv2_imshow(rectangle)"
   ]
  },
  {
   "cell_type": "code",
   "execution_count": null,
   "metadata": {
    "id": "MNmPUvAVm0XI"
   },
   "outputs": [],
   "source": [
    "# Inserindo texto em uma imagem: cv2.putText()\n",
    "\n",
    "# Os argumentos são:\n",
    "\n",
    "# - Imagem de entrada --- Ex: output\n",
    "# - Texto a ser exibido --- Ex: OpenCV Demo\n",
    "# - Coordenadas do ponto inferior esquerdo --- Ex: (100, 50)\n",
    "# - Fonte --- Ex: cv2.FONT_HERSHEY_SIMPLEX\n",
    "# - Tamanho da fonte --- Ex: 2\n",
    "# - Cor (Formato BGR) --- Ex: (255, 0, 0)\n",
    "# - Espessura da linha --- Ex: 2\n",
    "\n",
    "output = image.copy()\n",
    "\n",
    "text = cv2.putText(output, 'OpenCV Demo', (100, 50), \n",
    "                   cv2.FONT_HERSHEY_SIMPLEX, 2, (255, 0, 0), 2)"
   ]
  },
  {
   "cell_type": "code",
   "execution_count": null,
   "metadata": {
    "colab": {
     "base_uri": "https://localhost:8080/",
     "height": 569
    },
    "id": "IbRyKMx2nOxj",
    "outputId": "5a60bb67-985b-45c0-a8c2-8eb5994f4fc6"
   },
   "outputs": [],
   "source": [
    "cv2_imshow(text)"
   ]
  },
  {
   "cell_type": "code",
   "execution_count": null,
   "metadata": {
    "colab": {
     "base_uri": "https://localhost:8080/",
     "height": 569
    },
    "id": "ZhcHetj5ol8A",
    "outputId": "7c12b612-0d79-4cf7-ae95-6f624ab2cb60"
   },
   "outputs": [],
   "source": [
    "## Deixar imagem mais clara: somar o valor 100 a todos os píxeis\n",
    "\n",
    "cv2_imshow(cv2.add(image_gray, 100))"
   ]
  },
  {
   "cell_type": "code",
   "execution_count": null,
   "metadata": {
    "colab": {
     "base_uri": "https://localhost:8080/",
     "height": 569
    },
    "id": "Nwz4SneJiGMV",
    "outputId": "60afcd03-eec9-48a2-fe9e-14d59f743331"
   },
   "outputs": [],
   "source": [
    "## Deixar imagem mais escura: subtrair o valor 100 de todos os píxeis\n",
    "cv2_imshow(cv2.subtract(image_gray, 100))"
   ]
  }
 ],
 "metadata": {
  "colab": {
   "name": "02 - OpenCV.ipynb",
   "provenance": []
  },
  "kernelspec": {
   "display_name": "Python 3",
   "language": "python",
   "name": "python3"
  },
  "language_info": {
   "codemirror_mode": {
    "name": "ipython",
    "version": 3
   },
   "file_extension": ".py",
   "mimetype": "text/x-python",
   "name": "python",
   "nbconvert_exporter": "python",
   "pygments_lexer": "ipython3",
   "version": "3.8.10"
  }
 },
 "nbformat": 4,
 "nbformat_minor": 1
}
