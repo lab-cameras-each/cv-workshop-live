{
  "nbformat": 4,
  "nbformat_minor": 0,
  "metadata": {
    "colab": {
      "name": "01- NumPy.ipynb",
      "provenance": []
    },
    "kernelspec": {
      "name": "python3",
      "display_name": "Python 3"
    },
    "language_info": {
      "name": "python"
    }
  },
  "cells": [
    {
      "cell_type": "code",
      "metadata": {
        "id": "4IGlc661W42W"
      },
      "source": [
        "import numpy as np"
      ],
      "execution_count": null,
      "outputs": []
    },
    {
      "cell_type": "code",
      "metadata": {
        "id": "Gj_7x084XAQM"
      },
      "source": [
        "# Unidimensional\n",
        "array_one_dim = np.array([1, 2, 3, 4, 5])"
      ],
      "execution_count": null,
      "outputs": []
    },
    {
      "cell_type": "code",
      "metadata": {
        "colab": {
          "base_uri": "https://localhost:8080/"
        },
        "id": "bY3ZCI1rXeFl",
        "outputId": "44845952-6d34-4d57-8c60-5c138df74f83"
      },
      "source": [
        "# Obter elemento na posição 0\n",
        "print(array_one_dim[0])"
      ],
      "execution_count": null,
      "outputs": [
        {
          "output_type": "stream",
          "text": [
            "1\n"
          ],
          "name": "stdout"
        }
      ]
    },
    {
      "cell_type": "code",
      "metadata": {
        "colab": {
          "base_uri": "https://localhost:8080/"
        },
        "id": "Hnm-YQpqeZZL",
        "outputId": "fbd09260-2bfa-4111-c703-ef54c23b829e"
      },
      "source": [
        "# Obter elemento na posição 0\n",
        "print(array_one_dim[0:3])"
      ],
      "execution_count": null,
      "outputs": [
        {
          "output_type": "stream",
          "text": [
            "[1 2 3]\n"
          ],
          "name": "stdout"
        }
      ]
    },
    {
      "cell_type": "code",
      "metadata": {
        "id": "S1VmE59sXeuc"
      },
      "source": [
        "array_two_dim = np.array([[ 0,  1,  2,  3,  4],\n",
        "                          [ 5,  6,  7,  8,  9],\n",
        "                          [10, 11, 12, 13, 14]])"
      ],
      "execution_count": null,
      "outputs": []
    },
    {
      "cell_type": "code",
      "metadata": {
        "colab": {
          "base_uri": "https://localhost:8080/"
        },
        "id": "BLHWxKyvYg2t",
        "outputId": "10f3070b-c3cb-40d0-8124-38080a7cde86"
      },
      "source": [
        "print(array_two_dim)"
      ],
      "execution_count": null,
      "outputs": [
        {
          "output_type": "stream",
          "text": [
            "[[ 0  1  2  3  4]\n",
            " [ 5  6  7  8  9]\n",
            " [10 11 12 13 14]]\n"
          ],
          "name": "stdout"
        }
      ]
    },
    {
      "cell_type": "code",
      "metadata": {
        "colab": {
          "base_uri": "https://localhost:8080/"
        },
        "id": "kTIjXwSkX4RO",
        "outputId": "1b6da6f3-0cdd-4fde-bac0-049a4b6e3e94"
      },
      "source": [
        "# Obter elemento na linha 1 e coluna 1\n",
        "print(array_two_dim[1,1])"
      ],
      "execution_count": null,
      "outputs": [
        {
          "output_type": "execute_result",
          "data": {
            "text/plain": [
              "6"
            ]
          },
          "metadata": {
            "tags": []
          },
          "execution_count": 21
        }
      ]
    },
    {
      "cell_type": "code",
      "metadata": {
        "colab": {
          "base_uri": "https://localhost:8080/"
        },
        "id": "Ewm4OMyoX6tk",
        "outputId": "b3242cf2-9e41-4c59-bff8-be8a43775a0b"
      },
      "source": [
        "## Obter dimensoes\n",
        "print(\"Tamanho array unidimensional: \", array_one_dim.shape)\n",
        "print(\"Tamanho array bidimensional: \", array_two_dim.shape)"
      ],
      "execution_count": null,
      "outputs": [
        {
          "output_type": "stream",
          "text": [
            "Tamanho array unidimensional:  (5,)\n",
            "Tamanho array bidimensional:  (3, 5)\n"
          ],
          "name": "stdout"
        }
      ]
    },
    {
      "cell_type": "markdown",
      "metadata": {
        "id": "_rTCG21VZ-Lu"
      },
      "source": [
        "### Operações"
      ]
    },
    {
      "cell_type": "code",
      "metadata": {
        "id": "ZDsMGCxFZ8uc"
      },
      "source": [
        "A = np.array([[1, 1],\n",
        "              [0, 2]])\n",
        "\n",
        "B = np.array([[2, 0],\n",
        "              [3, 4]])"
      ],
      "execution_count": null,
      "outputs": []
    },
    {
      "cell_type": "code",
      "metadata": {
        "colab": {
          "base_uri": "https://localhost:8080/"
        },
        "id": "axLAkgbSZ8TL",
        "outputId": "4eca5ccc-c40e-4dd6-8069-29de3411269d"
      },
      "source": [
        "# Multiplicação de matrizes\n",
        "A.dot(B)"
      ],
      "execution_count": null,
      "outputs": [
        {
          "output_type": "execute_result",
          "data": {
            "text/plain": [
              "array([[5, 4],\n",
              "       [6, 8]])"
            ]
          },
          "metadata": {
            "tags": []
          },
          "execution_count": 37
        }
      ]
    },
    {
      "cell_type": "code",
      "metadata": {
        "colab": {
          "base_uri": "https://localhost:8080/"
        },
        "id": "mbAtpFzZYMJB",
        "outputId": "e8b50c2a-5e54-405c-b314-45516a31a096"
      },
      "source": [
        "# Produto \"elemento-a-elemento\" (Hadamard)\n",
        "A * B"
      ],
      "execution_count": null,
      "outputs": [
        {
          "output_type": "execute_result",
          "data": {
            "text/plain": [
              "array([[2, 0],\n",
              "       [0, 8]])"
            ]
          },
          "metadata": {
            "tags": []
          },
          "execution_count": 38
        }
      ]
    },
    {
      "cell_type": "code",
      "metadata": {
        "colab": {
          "base_uri": "https://localhost:8080/"
        },
        "id": "aciy2JpzYOAj",
        "outputId": "913bd527-097a-4163-c974-2b7fbca2b5e6"
      },
      "source": [
        "# Adição por escalar\n",
        "A + 1"
      ],
      "execution_count": null,
      "outputs": [
        {
          "output_type": "execute_result",
          "data": {
            "text/plain": [
              "array([[2, 2],\n",
              "       [1, 3]])"
            ]
          },
          "metadata": {
            "tags": []
          },
          "execution_count": 39
        }
      ]
    },
    {
      "cell_type": "code",
      "metadata": {
        "colab": {
          "base_uri": "https://localhost:8080/"
        },
        "id": "Y012o_TBc7IX",
        "outputId": "ae33f243-69ce-4cff-8fe9-a453f8d670dd"
      },
      "source": [
        "# Multiplicacao por escalar\n",
        "A * 4"
      ],
      "execution_count": null,
      "outputs": [
        {
          "output_type": "execute_result",
          "data": {
            "text/plain": [
              "array([[4, 4],\n",
              "       [0, 8]])"
            ]
          },
          "metadata": {
            "tags": []
          },
          "execution_count": 40
        }
      ]
    },
    {
      "cell_type": "code",
      "metadata": {
        "id": "gXLSw9todUXU"
      },
      "source": [
        "# Atribuição a partir de condição\n",
        "A_c = A.copy()\n",
        "A_c[A_c == 1] = -8"
      ],
      "execution_count": null,
      "outputs": []
    },
    {
      "cell_type": "code",
      "metadata": {
        "colab": {
          "base_uri": "https://localhost:8080/"
        },
        "id": "EVuX_85bd1D-",
        "outputId": "744ff407-3113-46ed-fb92-514cd6e107e9"
      },
      "source": [
        "A_c"
      ],
      "execution_count": null,
      "outputs": [
        {
          "output_type": "execute_result",
          "data": {
            "text/plain": [
              "array([[-8, -8],\n",
              "       [ 0,  2]])"
            ]
          },
          "metadata": {
            "tags": []
          },
          "execution_count": 47
        }
      ]
    },
    {
      "cell_type": "code",
      "metadata": {
        "id": "HGlsfo6Vd2gw"
      },
      "source": [
        "A_c = A.copy()\n",
        "A_c[A_c < 1] = -8"
      ],
      "execution_count": null,
      "outputs": []
    },
    {
      "cell_type": "code",
      "metadata": {
        "colab": {
          "base_uri": "https://localhost:8080/"
        },
        "id": "0ZUvBy1weQP9",
        "outputId": "aa200bde-2476-436a-d9f7-36493caca1e9"
      },
      "source": [
        "A_c"
      ],
      "execution_count": null,
      "outputs": [
        {
          "output_type": "execute_result",
          "data": {
            "text/plain": [
              "array([[ 1,  1],\n",
              "       [-8,  2]])"
            ]
          },
          "metadata": {
            "tags": []
          },
          "execution_count": 49
        }
      ]
    },
    {
      "cell_type": "code",
      "metadata": {
        "id": "U7_ax8yreRPR"
      },
      "source": [
        ""
      ],
      "execution_count": null,
      "outputs": []
    }
  ]
}