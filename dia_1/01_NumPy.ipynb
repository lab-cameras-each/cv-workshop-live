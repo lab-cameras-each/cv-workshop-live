{
 "cells": [
  {
   "cell_type": "markdown",
   "metadata": {},
   "source": [
    "# NumPy: manipulação básica de matrizes\n",
    "Este notebook tem por objetivo demonstrar as funcionalidades básicas do biblioteca Numpy. \n",
    "\n",
    "Para detalhes, favor consultar a documentação em https://numpy.org/"
   ]
  },
  {
   "cell_type": "code",
   "execution_count": null,
   "metadata": {
    "id": "4IGlc661W42W"
   },
   "outputs": [],
   "source": [
    "#Importação da biblioteca\n",
    "import numpy as np"
   ]
  },
  {
   "cell_type": "code",
   "execution_count": null,
   "metadata": {
    "id": "Gj_7x084XAQM"
   },
   "outputs": [],
   "source": [
    "# Criação de matriz unidimensional (vetor)\n",
    "array_one_dim = np.array([1, 2, 3, 4, 5])"
   ]
  },
  {
   "cell_type": "code",
   "execution_count": null,
   "metadata": {
    "colab": {
     "base_uri": "https://localhost:8080/"
    },
    "id": "bY3ZCI1rXeFl",
    "outputId": "44845952-6d34-4d57-8c60-5c138df74f83"
   },
   "outputs": [],
   "source": [
    "# Obter elemento na posição 0\n",
    "print(array_one_dim[0])"
   ]
  },
  {
   "cell_type": "code",
   "execution_count": null,
   "metadata": {
    "colab": {
     "base_uri": "https://localhost:8080/"
    },
    "id": "Hnm-YQpqeZZL",
    "outputId": "fbd09260-2bfa-4111-c703-ef54c23b829e"
   },
   "outputs": [],
   "source": [
    "# Obter elemento na posição 0\n",
    "print(array_one_dim[0:3])"
   ]
  },
  {
   "cell_type": "code",
   "execution_count": null,
   "metadata": {
    "id": "S1VmE59sXeuc"
   },
   "outputs": [],
   "source": [
    "# Criação de matriz bidimensional\n",
    "array_two_dim = np.array([[ 0,  1,  2,  3,  4],\n",
    "                          [ 5,  6,  7,  8,  9],\n",
    "                          [10, 11, 12, 13, 14]])"
   ]
  },
  {
   "cell_type": "code",
   "execution_count": null,
   "metadata": {
    "colab": {
     "base_uri": "https://localhost:8080/"
    },
    "id": "BLHWxKyvYg2t",
    "outputId": "10f3070b-c3cb-40d0-8124-38080a7cde86"
   },
   "outputs": [],
   "source": [
    "print(array_two_dim)"
   ]
  },
  {
   "cell_type": "code",
   "execution_count": null,
   "metadata": {
    "colab": {
     "base_uri": "https://localhost:8080/"
    },
    "id": "kTIjXwSkX4RO",
    "outputId": "1b6da6f3-0cdd-4fde-bac0-049a4b6e3e94"
   },
   "outputs": [],
   "source": [
    "# Obter elemento na linha 1 e coluna 1\n",
    "print(array_two_dim[1,1])"
   ]
  },
  {
   "cell_type": "code",
   "execution_count": null,
   "metadata": {
    "colab": {
     "base_uri": "https://localhost:8080/"
    },
    "id": "Ewm4OMyoX6tk",
    "outputId": "b3242cf2-9e41-4c59-bff8-be8a43775a0b"
   },
   "outputs": [],
   "source": [
    "## Obter dimensoes\n",
    "print(\"Tamanho array unidimensional: \", array_one_dim.shape)\n",
    "print(\"Tamanho array bidimensional: \", array_two_dim.shape)"
   ]
  },
  {
   "cell_type": "markdown",
   "metadata": {
    "id": "_rTCG21VZ-Lu"
   },
   "source": [
    "### Operações"
   ]
  },
  {
   "cell_type": "code",
   "execution_count": null,
   "metadata": {
    "id": "ZDsMGCxFZ8uc"
   },
   "outputs": [],
   "source": [
    "#Criação das matrizes A e B\n",
    "A = np.array([[1, 1],\n",
    "              [0, 2]])\n",
    "\n",
    "B = np.array([[2, 0],\n",
    "              [3, 4]])"
   ]
  },
  {
   "cell_type": "code",
   "execution_count": null,
   "metadata": {
    "colab": {
     "base_uri": "https://localhost:8080/"
    },
    "id": "axLAkgbSZ8TL",
    "outputId": "4eca5ccc-c40e-4dd6-8069-29de3411269d"
   },
   "outputs": [],
   "source": [
    "# Multiplicação de matrizes\n",
    "A.dot(B)"
   ]
  },
  {
   "cell_type": "code",
   "execution_count": null,
   "metadata": {
    "colab": {
     "base_uri": "https://localhost:8080/"
    },
    "id": "mbAtpFzZYMJB",
    "outputId": "e8b50c2a-5e54-405c-b314-45516a31a096"
   },
   "outputs": [],
   "source": [
    "# Produto \"elemento-a-elemento\" (Hadamard)\n",
    "A * B"
   ]
  },
  {
   "cell_type": "code",
   "execution_count": null,
   "metadata": {
    "colab": {
     "base_uri": "https://localhost:8080/"
    },
    "id": "aciy2JpzYOAj",
    "outputId": "913bd527-097a-4163-c974-2b7fbca2b5e6"
   },
   "outputs": [],
   "source": [
    "# Adição por escalar\n",
    "A + 1"
   ]
  },
  {
   "cell_type": "code",
   "execution_count": null,
   "metadata": {
    "colab": {
     "base_uri": "https://localhost:8080/"
    },
    "id": "Y012o_TBc7IX",
    "outputId": "ae33f243-69ce-4cff-8fe9-a453f8d670dd"
   },
   "outputs": [],
   "source": [
    "# Multiplicacao por escalar\n",
    "A * 4"
   ]
  },
  {
   "cell_type": "code",
   "execution_count": null,
   "metadata": {
    "id": "gXLSw9todUXU"
   },
   "outputs": [],
   "source": [
    "# Atribuição a partir de condição. Nesse caso, vamos substituir todos os elementos \"1\" por \"-8\"\n",
    "A_c = A.copy()\n",
    "A_c[A_c == 1] = -8"
   ]
  },
  {
   "cell_type": "code",
   "execution_count": null,
   "metadata": {
    "colab": {
     "base_uri": "https://localhost:8080/"
    },
    "id": "EVuX_85bd1D-",
    "outputId": "744ff407-3113-46ed-fb92-514cd6e107e9"
   },
   "outputs": [],
   "source": [
    "A_c"
   ]
  },
  {
   "cell_type": "code",
   "execution_count": null,
   "metadata": {
    "id": "HGlsfo6Vd2gw"
   },
   "outputs": [],
   "source": [
    "#Nesse caso, vamos substituir todos os elementos menores que \"1\" por \"-8\"\n",
    "A_c = A.copy()\n",
    "A_c[A_c < 1] = -8"
   ]
  },
  {
   "cell_type": "code",
   "execution_count": null,
   "metadata": {
    "colab": {
     "base_uri": "https://localhost:8080/"
    },
    "id": "0ZUvBy1weQP9",
    "outputId": "aa200bde-2476-436a-d9f7-36493caca1e9"
   },
   "outputs": [],
   "source": [
    "A_c"
   ]
  }
 ],
 "metadata": {
  "colab": {
   "name": "01- NumPy.ipynb",
   "provenance": []
  },
  "kernelspec": {
   "display_name": "Python 3",
   "language": "python",
   "name": "python3"
  },
  "language_info": {
   "codemirror_mode": {
    "name": "ipython",
    "version": 3
   },
   "file_extension": ".py",
   "mimetype": "text/x-python",
   "name": "python",
   "nbconvert_exporter": "python",
   "pygments_lexer": "ipython3",
   "version": "3.8.10"
  }
 },
 "nbformat": 4,
 "nbformat_minor": 1
}
